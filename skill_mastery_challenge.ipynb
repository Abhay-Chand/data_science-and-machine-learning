{
  "nbformat": 4,
  "nbformat_minor": 0,
  "metadata": {
    "colab": {
      "provenance": [],
      "authorship_tag": "ABX9TyNkaUE5ys6n4v2MoBZ20+EI",
      "include_colab_link": true
    },
    "kernelspec": {
      "name": "python3",
      "display_name": "Python 3"
    },
    "language_info": {
      "name": "python"
    }
  },
  "cells": [
    {
      "cell_type": "markdown",
      "metadata": {
        "id": "view-in-github",
        "colab_type": "text"
      },
      "source": [
        "<a href=\"https://colab.research.google.com/github/Abhay-Chand/data_science-and-machine-learning/blob/main/skill_mastery_challenge.ipynb\" target=\"_parent\"><img src=\"https://colab.research.google.com/assets/colab-badge.svg\" alt=\"Open In Colab\"/></a>"
      ]
    },
    {
      "cell_type": "markdown",
      "source": [
        "## Array"
      ],
      "metadata": {
        "id": "bNmcArSluiS0"
      }
    },
    {
      "cell_type": "code",
      "execution_count": 5,
      "metadata": {
        "colab": {
          "base_uri": "https://localhost:8080/"
        },
        "id": "TT7jYlJYuWgE",
        "outputId": "f1e95f4a-2260-45c2-bddb-ee90b45848f3"
      },
      "outputs": [
        {
          "output_type": "stream",
          "name": "stdout",
          "text": [
            "array('i', [11, 233, 22, 15, 66, 7])\n"
          ]
        }
      ],
      "source": [
        "import array as arr\n",
        "my_array = arr.array('i',[11,233,22,15,66,7])\n",
        "print(my_array)"
      ]
    },
    {
      "cell_type": "markdown",
      "source": [
        "## aCCess third element"
      ],
      "metadata": {
        "id": "ggNUp-QzvaUa"
      }
    },
    {
      "cell_type": "code",
      "source": [
        "third_element = my_array[2]\n",
        "print(third_element)"
      ],
      "metadata": {
        "colab": {
          "base_uri": "https://localhost:8080/"
        },
        "id": "cyuCaJ0LvGzM",
        "outputId": "1c894f26-3b4b-4ec0-a7b0-86d44e6c87c3"
      },
      "execution_count": 7,
      "outputs": [
        {
          "output_type": "stream",
          "name": "stdout",
          "text": [
            "22\n"
          ]
        }
      ]
    },
    {
      "cell_type": "markdown",
      "source": [
        "## APPend element in array"
      ],
      "metadata": {
        "id": "WRGUyK5Wv_BW"
      }
    },
    {
      "cell_type": "code",
      "source": [
        "my_array.append(6)\n",
        "print(my_array)"
      ],
      "metadata": {
        "colab": {
          "base_uri": "https://localhost:8080/"
        },
        "id": "dYGW8iQLvit1",
        "outputId": "1edfcef7-b997-4bf2-b885-0c11856d33d9"
      },
      "execution_count": 11,
      "outputs": [
        {
          "output_type": "stream",
          "name": "stdout",
          "text": [
            "array('i', [11, 233, 22, 15, 66, 7, 6, 6, 6, 6])\n"
          ]
        }
      ]
    },
    {
      "cell_type": "markdown",
      "source": [
        "## Deleting element from"
      ],
      "metadata": {
        "id": "s_H-O_gpwVCL"
      }
    },
    {
      "cell_type": "code",
      "source": [
        "my_array.pop(7)\n",
        "print(my_array)"
      ],
      "metadata": {
        "colab": {
          "base_uri": "https://localhost:8080/"
        },
        "id": "ejnWoIn1wC4C",
        "outputId": "25bec364-e6e8-40da-fa91-1aca73836c8b"
      },
      "execution_count": 15,
      "outputs": [
        {
          "output_type": "stream",
          "name": "stdout",
          "text": [
            "array('i', [233, 22, 15, 66, 7, 6, 6])\n"
          ]
        }
      ]
    },
    {
      "cell_type": "code",
      "source": [],
      "metadata": {
        "id": "8Wv2dpjgwe76"
      },
      "execution_count": null,
      "outputs": []
    }
  ]
}