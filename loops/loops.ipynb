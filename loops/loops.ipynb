{
 "cells": [
  {
   "cell_type": "markdown",
   "metadata": {},
   "source": [
    "**List**"
   ]
  },
  {
   "cell_type": "code",
   "execution_count": 5,
   "metadata": {},
   "outputs": [
    {
     "name": "stdout",
     "output_type": "stream",
     "text": [
      "pepperoni\n",
      "mushrooms\n",
      "olives\n",
      "sausage\n"
     ]
    }
   ],
   "source": [
    "### Let's say you have a list of pizza toppings, like [\"pepperoni\", \"mushrooms\", \"olives\", \"sausage\"]. Your task is to print each toppings in a different line individually. What would be your approach?\n",
    "# normal method\n",
    "toppings = [\"pepperoni\", \"mushrooms\", \"olives\", \"sausage\"]\n",
    "print(toppings[0])\n",
    "print(toppings[1])\n",
    "print(toppings[2])\n",
    "print(toppings[3])"
   ]
  },
  {
   "cell_type": "markdown",
   "metadata": {},
   "source": [
    "_but wit knowledge of loop, things are more easier _\n"
   ]
  },
  {
   "cell_type": "markdown",
   "metadata": {},
   "source": [
    "### Let's say you have a list of pizza toppings, like [\"pepperoni\", \"mushrooms\", \"olives\", \"sausage\"]. Your task is to print each toppings in a different line individually. What would be your approach?\n",
    "## with loop"
   ]
  },
  {
   "cell_type": "code",
   "execution_count": 4,
   "metadata": {},
   "outputs": [
    {
     "name": "stdout",
     "output_type": "stream",
     "text": [
      "pepperoni\n",
      "mushrooms\n",
      "olives\n",
      "sausage\n"
     ]
    }
   ],
   "source": [
    "\n",
    "toppings = [\"pepperoni\", \"mushrooms\", \"olives\", \"sausage\"]\n",
    "for topping in toppings:\n",
    "    print(topping)"
   ]
  },
  {
   "cell_type": "markdown",
   "metadata": {},
   "source": [
    "**Add new toppings to the list using a loop and  the append method **"
   ]
  },
  {
   "cell_type": "code",
   "execution_count": 16,
   "metadata": {},
   "outputs": [
    {
     "name": "stdout",
     "output_type": "stream",
     "text": [
      "['pepperoni', 'mushrooms', 'olives', 'sausage', ['bacon', 'peppers', 'pineapple'], ['bacon', 'peppers', 'pineapple'], ['bacon', 'peppers', 'pineapple'], ['bacon', 'peppers', 'pineapple'], ['bacon', 'peppers', 'pineapple'], ['bacon', 'peppers', 'pineapple'], ['bacon', 'peppers', 'pineapple'], ['bacon', 'peppers', 'pineapple'], ['bacon', 'peppers', 'pineapple'], ['bacon', 'peppers', 'pineapple'], ['bacon', 'peppers', 'pineapple'], ['bacon', 'peppers', 'pineapple'], ['bacon', 'peppers', 'pineapple'], ['bacon', 'peppers', 'pineapple'], ['bacon', 'peppers', 'pineapple'], ['bacon', 'peppers', 'pineapple'], ['bacon', 'peppers', 'pineapple'], ['bacon', 'peppers', 'pineapple'], 4, 4, 4, 4, 4, 4]\n"
     ]
    }
   ],
   "source": [
    "new_toppping = [\"bacon\",\"peppers\",\"pineapple\"]\n",
    "for topping in new_toppping:\n",
    "    toppings.append(toppping)\n",
    "\n",
    "print(toppings)"
   ]
  },
  {
   "cell_type": "markdown",
   "metadata": {},
   "source": [
    "**another method using loop , a smarter way to  do  this ould be use extend() method **"
   ]
  },
  {
   "cell_type": "code",
   "execution_count": null,
   "metadata": {},
   "outputs": [],
   "source": [
    "toppings = [\"pepperoni\", \"mushrooms\", \"olives\", \"sausage\"]\n",
    "new_toppping = [\"bacon\",\"peppers\",\"pineapple\"]\n",
    "toppings.extend(new_toppping[0:2])\n",
    "print(toppings)"
   ]
  },
  {
   "cell_type": "markdown",
   "metadata": {},
   "source": [
    "#Write a program that takes a string as input and counts the number of vowels (a, e, i, o, u) in the string using a for loop."
   ]
  },
  {
   "cell_type": "code",
   "execution_count": 11,
   "metadata": {},
   "outputs": [
    {
     "name": "stdout",
     "output_type": "stream",
     "text": [
      "the number of string : 2\n"
     ]
    }
   ],
   "source": [
    "\n",
    "string = input(\"Enter a sting :\")\n",
    "\n",
    "count = 0\n",
    "for char in string:\n",
    "    if char in 'aeoiuAEIOU':\n",
    "        count +=1\n",
    "print(\"the number of string :\",count)"
   ]
  },
  {
   "cell_type": "markdown",
   "metadata": {},
   "source": [
    "## Imagine you're organizing a chess tournament 🏆. Your task is to bring together the players whose name start with 'A' or 'B' in one team, and 'C' or 'D' in another team.\n",
    "\n",
    "** In Python, you can nest 'for' loops to do this. Let's take a closer look at how nested loops work using our chess tournament scenario: **"
   ]
  },
  {
   "cell_type": "code",
   "execution_count": 16,
   "metadata": {},
   "outputs": [
    {
     "name": "stdout",
     "output_type": "stream",
     "text": [
      "chess tournament,team1 : ['Alice', 'Bob'] --- team2 : ['Charlie', 'Diana']\n"
     ]
    }
   ],
   "source": [
    "\n",
    "tournament = [['Alice', 'Charlie'], ['Bob', 'Diana']]\n",
    "team1=[]\n",
    "team2=[]\n",
    "for group in tournament:\n",
    "    for player in group:\n",
    "        if player[0] == \"A\" or player[0] ==\"B\":\n",
    "            team1.append(player)\n",
    "        else:\n",
    "            team2.append(player)\n",
    "\n",
    "print(f\"chess tournament,team1 : {team1} --- team2 : {team2}\")\n"
   ]
  },
  {
   "cell_type": "code",
   "execution_count": 20,
   "metadata": {},
   "outputs": [
    {
     "name": "stdout",
     "output_type": "stream",
     "text": [
      "the number of odd and even numbers in the list - odd:13 ,even : 12\n"
     ]
    }
   ],
   "source": [
    "'''You're given a nested list of numbers, and your task is to count the number of odd and even numbers in the list. To achieve this, you'll use a nested loop and some basic conditional statements.\n",
    "\n",
    "List- numbers = [ [2, 5, 11, 20, 8], [9, 4, 15, 28, 17], [1, 6, 21, 18, 3], [10, 13, 25, 33, 30], [14, 7, 16, 19, 22] ]'''\n",
    "numbers = [2, 5, 11, 20, 8], [9, 4, 15, 28, 17], [1, 6, 21, 18, 3], [10, 13, 25, 33, 30], [14, 7, 16, 19, 22]\n",
    "even_count = 0\n",
    "odd_count = 0\n",
    "for num in numbers:\n",
    "    for i in num:\n",
    "        if i%2 == 0 :\n",
    "            even_count += 1\n",
    "        else:\n",
    "            odd_count += 1\n",
    "print(f\"the number of odd and even numbers in the list - odd:{odd_count} ,even : {even_count}\") "
   ]
  },
  {
   "cell_type": "code",
   "execution_count": 21,
   "metadata": {},
   "outputs": [
    {
     "name": "stdout",
     "output_type": "stream",
     "text": [
      "total grades : 2095\n",
      "average grade : 83.8\n"
     ]
    }
   ],
   "source": [
    "#Imagine you are a teacher and you need to calculate the average grade for a class of 25 students. You have a list of grades for each student and you need to loop through the list to calculate the average grade for the class.\n",
    "# Create a list of grades for each student\n",
    "grades = [90, 85, 95, 80, 75, 85, 90, 85, 70, 80,\n",
    "          90, 75, 80, 85, 90, 95, 80, 75, 85, 90,\n",
    "          85, 90, 75, 80, 85]\n",
    "total_grade = 0\n",
    "for grade in grades:\n",
    "    total_grade += grade\n",
    "print(f\"total grades : {total_grade}\")\n",
    "avg_grade = total_grade/25\n",
    "print(f\"average grade : {avg_grade}\")"
   ]
  },
  {
   "cell_type": "code",
   "execution_count": 22,
   "metadata": {},
   "outputs": [
    {
     "name": "stdout",
     "output_type": "stream",
     "text": [
      "!drow olleH\n"
     ]
    }
   ],
   "source": [
    "#Let's now try using a while loop to reverse the given string:\n",
    "\n",
    "string = \"Hello word!\"\n",
    "reverse_string = \"\"\n",
    "i = len(string) -1\n",
    "while i >= 0:\n",
    "    reverse_string += string[i]\n",
    "    i -= 1\n",
    "print(reverse_string)"
   ]
  },
  {
   "cell_type": "code",
   "execution_count": 33,
   "metadata": {},
   "outputs": [
    {
     "name": "stdout",
     "output_type": "stream",
     "text": [
      "***books name***\n",
      "To Kill a Mockingbird\n",
      "1984\n",
      "The Catcher in the Rye\n",
      "The Great Gatsby\n",
      "***Now author name***\n",
      "Harper Lee\n",
      "George Orwell\n",
      "J.D. Salinger\n",
      "F. Scott Fitzgerald\n",
      " books :To Kill a Mockingbird ---- and ---- author:Harper Lee\n",
      " books :1984 ---- and ---- author:George Orwell\n",
      " books :The Catcher in the Rye ---- and ---- author:J.D. Salinger\n",
      " books :The Great Gatsby ---- and ---- author:F. Scott Fitzgerald\n"
     ]
    }
   ],
   "source": [
    "#You want to print out all the books in your library. To do this, you can loop through the dictionary keys:\n",
    "library = {\n",
    "    'To Kill a Mockingbird': 'Harper Lee',\n",
    "    '1984': 'George Orwell',\n",
    "    'The Catcher in the Rye': 'J.D. Salinger',\n",
    "    'The Great Gatsby': 'F. Scott Fitzgerald'\n",
    "}\n",
    "print(\"***books name***\")\n",
    "for book in library:\n",
    "    print(book)\n",
    "#scenario for author:\n",
    "print(\"***Now author name***\")\n",
    "for author in library.values():\n",
    "    print(author)\n",
    "\n",
    "# scenario for both author and books:\n",
    "for book,author in library.items():\n",
    "    print(f\" books :{book} ---- and ---- author:{author}\")\n"
   ]
  },
  {
   "cell_type": "markdown",
   "metadata": {},
   "source": [
    "Let us practice hands-on coding question:"
   ]
  },
  {
   "cell_type": "code",
   "execution_count": 38,
   "metadata": {},
   "outputs": [
    {
     "name": "stdout",
     "output_type": "stream",
     "text": [
      "Day : Monday and revenue :$500\n",
      "Day : Tuesday and revenue :$460\n",
      "Day : Wednesday and revenue :$90\n",
      "Day : Thursday and revenue :$200\n",
      "Day : Friday and revenue :$218\n",
      "Day : Saturday and revenue :$468\n",
      "Day : Sunday and revenue :$1134\n"
     ]
    }
   ],
   "source": [
    "# You work for a small coffee shop, and your boss has asked you to create a program that will calculate the total revenue for each day of the week. You have a dictionary containing the daily sales for the past week, and you need to loop through the dictionary to calculate the revenue and add it to previous week's daily revenue data. Write a program that calculates the total revenue for each day of the week using a loop and prints the results.\n",
    "\n",
    "# Write a program that calculates the total revenue for each day of the week using a loop and prints the results.\n",
    "#Below we have revenue for previous week. Update this and add this week's revenue as well.\n",
    "revenue = {\n",
    "    'Monday': 250,\n",
    "    'Tuesday': 230,\n",
    "    'Wednesday': 45,\n",
    "    'Thursday': 100,\n",
    "    'Friday': 109,\n",
    "    'Saturday': 234,\n",
    "    'Sunday': 567\n",
    "}\n",
    "for day,sales_amount in revenue.items():\n",
    "    revenue[day] += sales_amount\n",
    "for day,revenue_amount in revenue.items():\n",
    "    print(f\"Day : {day} and revenue :${revenue_amount}\")\n"
   ]
  },
  {
   "cell_type": "code",
   "execution_count": null,
   "metadata": {},
   "outputs": [],
   "source": [
    "# You and your friends are playing a board game where you roll a dice and move your game piece accordingly. However, you want to know the average number rolled by each player to see who's really the luckiest. \n",
    "# Write a program that takes a list of rolls as input for each player and uses a for loop to calculate the average roll for each player. The winner gets bragging rights for being the luckiest!\n",
    "# define a list of rolls for each player\n",
    "player_rolls = [\n",
    "    [4, 2, 6, 3, 1],  # player 1's rolls\n",
    "    [3, 5, 6, 4, 2],  # player 2's rolls\n",
    "    [1, 2, 2, 6, 4]   # player 3's rolls\n",
    "]"
   ]
  }
 ],
 "metadata": {
  "kernelspec": {
   "display_name": "Python 3",
   "language": "python",
   "name": "python3"
  },
  "language_info": {
   "codemirror_mode": {
    "name": "ipython",
    "version": 3
   },
   "file_extension": ".py",
   "mimetype": "text/x-python",
   "name": "python",
   "nbconvert_exporter": "python",
   "pygments_lexer": "ipython3",
   "version": "3.12.5"
  }
 },
 "nbformat": 4,
 "nbformat_minor": 2
}
