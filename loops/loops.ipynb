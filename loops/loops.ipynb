{
 "cells": [
  {
   "cell_type": "markdown",
   "metadata": {},
   "source": [
    "**List**"
   ]
  },
  {
   "cell_type": "code",
   "execution_count": 5,
   "metadata": {},
   "outputs": [
    {
     "name": "stdout",
     "output_type": "stream",
     "text": [
      "pepperoni\n",
      "mushrooms\n",
      "olives\n",
      "sausage\n"
     ]
    }
   ],
   "source": [
    "### Let's say you have a list of pizza toppings, like [\"pepperoni\", \"mushrooms\", \"olives\", \"sausage\"]. Your task is to print each toppings in a different line individually. What would be your approach?\n",
    "# normal method\n",
    "toppings = [\"pepperoni\", \"mushrooms\", \"olives\", \"sausage\"]\n",
    "print(toppings[0])\n",
    "print(toppings[1])\n",
    "print(toppings[2])\n",
    "print(toppings[3])"
   ]
  },
  {
   "cell_type": "markdown",
   "metadata": {},
   "source": [
    "_but wit knowledge of loop, things are more easier _\n"
   ]
  },
  {
   "cell_type": "code",
   "execution_count": 4,
   "metadata": {},
   "outputs": [
    {
     "name": "stdout",
     "output_type": "stream",
     "text": [
      "pepperoni\n",
      "mushrooms\n",
      "olives\n",
      "sausage\n"
     ]
    }
   ],
   "source": [
    "### Let's say you have a list of pizza toppings, like [\"pepperoni\", \"mushrooms\", \"olives\", \"sausage\"]. Your task is to print each toppings in a different line individually. What would be your approach?\n",
    "# with loop\n",
    "toppings = [\"pepperoni\", \"mushrooms\", \"olives\", \"sausage\"]\n",
    "for topping in toppings:\n",
    "    print(topping)"
   ]
  },
  {
   "cell_type": "markdown",
   "metadata": {},
   "source": [
    "**Add new toppings to the list using a loop and  the append method **"
   ]
  },
  {
   "cell_type": "code",
   "execution_count": 16,
   "metadata": {},
   "outputs": [
    {
     "name": "stdout",
     "output_type": "stream",
     "text": [
      "['pepperoni', 'mushrooms', 'olives', 'sausage', ['bacon', 'peppers', 'pineapple'], ['bacon', 'peppers', 'pineapple'], ['bacon', 'peppers', 'pineapple'], ['bacon', 'peppers', 'pineapple'], ['bacon', 'peppers', 'pineapple'], ['bacon', 'peppers', 'pineapple'], ['bacon', 'peppers', 'pineapple'], ['bacon', 'peppers', 'pineapple'], ['bacon', 'peppers', 'pineapple'], ['bacon', 'peppers', 'pineapple'], ['bacon', 'peppers', 'pineapple'], ['bacon', 'peppers', 'pineapple'], ['bacon', 'peppers', 'pineapple'], ['bacon', 'peppers', 'pineapple'], ['bacon', 'peppers', 'pineapple'], ['bacon', 'peppers', 'pineapple'], ['bacon', 'peppers', 'pineapple'], ['bacon', 'peppers', 'pineapple'], 4, 4, 4, 4, 4, 4]\n"
     ]
    }
   ],
   "source": [
    "new_toppping = [\"bacon\",\"peppers\",\"pineapple\"]\n",
    "for topping in new_toppping:\n",
    "    toppings.append(toppping)\n",
    "\n",
    "print(toppings)"
   ]
  },
  {
   "cell_type": "markdown",
   "metadata": {},
   "source": [
    "**another method using loop , a smarter way to  do  this ould be use extend() method **"
   ]
  },
  {
   "cell_type": "code",
   "execution_count": 19,
   "metadata": {},
   "outputs": [
    {
     "name": "stdout",
     "output_type": "stream",
     "text": [
      "['pepperoni', 'mushrooms', 'olives', 'sausage', 'bacon', 'peppers']\n"
     ]
    }
   ],
   "source": [
    "toppings = [\"pepperoni\", \"mushrooms\", \"olives\", \"sausage\"]\n",
    "new_toppping = [\"bacon\",\"peppers\",\"pineapple\"]\n",
    "toppings.extend(new_toppping[0:2])\n",
    "print(toppings)"
   ]
  }
 ],
 "metadata": {
  "kernelspec": {
   "display_name": "Python 3",
   "language": "python",
   "name": "python3"
  },
  "language_info": {
   "codemirror_mode": {
    "name": "ipython",
    "version": 3
   },
   "file_extension": ".py",
   "mimetype": "text/x-python",
   "name": "python",
   "nbconvert_exporter": "python",
   "pygments_lexer": "ipython3",
   "version": "3.12.5"
  }
 },
 "nbformat": 4,
 "nbformat_minor": 2
}
