{
 "cells": [
  {
   "cell_type": "markdown",
   "metadata": {},
   "source": [
    "fucntions Examples \n",
    "\n",
    "E1 =  temprature conversion\n",
    "E2 =  password strength cracker\n",
    "E3 = calculated the total cost of items in a shoppong cart \n",
    "E4 = check if a srting is palindrone \n",
    "E5= calculate the factorials of number using recursion \n"
   ]
  },
  {
   "cell_type": "code",
   "execution_count": null,
   "metadata": {
    "vscode": {
     "languageId": "plaintext"
    }
   },
   "outputs": [],
   "source": [
    "# E1 =  temperature conversion\n",
    "def convert_temperature(temp,unit):"
   ]
  },
  {
   "cell_type": "code",
   "execution_count": null,
   "metadata": {
    "vscode": {
     "languageId": "plaintext"
    }
   },
   "outputs": [],
   "source": []
  }
 ],
 "metadata": {
  "language_info": {
   "name": "python"
  }
 },
 "nbformat": 4,
 "nbformat_minor": 2
}
