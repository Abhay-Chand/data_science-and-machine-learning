{
 "cells": [
  {
   "cell_type": "markdown",
   "metadata": {},
   "source": [
    "fucntions Examples \n",
    "\n",
    "E1 =  temprature conversion\n",
    "E2 =  password strength cracker\n",
    "E3 = calculated the total cost of items in a shoppong cart \n",
    "E4 = check if a srting is palindrone \n",
    "E5= calculate the factorials of number using recursion \n"
   ]
  },
  {
   "cell_type": "code",
   "execution_count": 1,
   "metadata": {},
   "outputs": [
    {
     "name": "stdout",
     "output_type": "stream",
     "text": [
      "57.22222222222222\n"
     ]
    }
   ],
   "source": [
    "# E1 =  temperature conversion\n",
    "def convert_temperature(temp,unit):\n",
    "    \"\"\"this function convert temprature between celsius to faherenheit \"\"\"\n",
    "    if unit == \"C\":\n",
    "        return temp *9/5 +32  ## celsius to faherenheit\n",
    "    elif unit == \"F\":\n",
    "        return (temp - 32)*5/9 \n",
    "    else :\n",
    "        return None\n",
    "print(convert_temperature(135,\"F\"))"
   ]
  },
  {
   "cell_type": "markdown",
   "metadata": {},
   "source": [
    "E2 =  password strength cracker"
   ]
  },
  {
   "cell_type": "code",
   "execution_count": 2,
   "metadata": {},
   "outputs": [
    {
     "name": "stdout",
     "output_type": "stream",
     "text": [
      "False\n",
      "True\n",
      "False\n"
     ]
    }
   ],
   "source": [
    "def is_strong_password(password):\n",
    "    \"\"\"this function checks if password is strong or not \"\"\"\n",
    "    if len(password)<8:\n",
    "        return False\n",
    "    if not any(char.isdigit() for char in password):\n",
    "        return False\n",
    "    if not any(char.islower() for char in password):\n",
    "        return False\n",
    "    if not any(char.isupper() for char in password):\n",
    "        return False\n",
    "    if not any(char in '!@#$%^&*()_+' for char in password):\n",
    "        return False\n",
    "    return True\n",
    "\n",
    "#calling the function\n",
    "\n",
    "print(is_strong_password(\"Weakcjbnc\"))\n",
    "print(is_strong_password(\"Abhoishek@96\"))\n",
    "print(is_strong_password(\"Abhiahd9378\"))"
   ]
  },
  {
   "cell_type": "markdown",
   "metadata": {},
   "source": [
    "E3 = calculated the total cost of items in a shoppong cart"
   ]
  },
  {
   "cell_type": "code",
   "execution_count": 11,
   "metadata": {},
   "outputs": [
    {
     "name": "stdout",
     "output_type": "stream",
     "text": [
      "8.7\n"
     ]
    }
   ],
   "source": [
    "def cal_total_cost(cart):\n",
    "    total_cost = 0\n",
    "    for item in cart:\n",
    "        total_cost+=item['price']*item['qty']\n",
    "    return total_cost\n",
    "#Example cart data\n",
    "cart = [\n",
    "    {'name':'Apple','price':0.5,'qty':4},\n",
    "    {'name':'Banana','price':0.3,'qty':6},\n",
    "    {'name':'Orange','price':0.7,'qty':7}\n",
    "]\n",
    "total_cost = cal_total_cost(cart)\n",
    "print(total_cost)"
   ]
  },
  {
   "cell_type": "markdown",
   "metadata": {},
   "source": [
    "E4 = check if a srting is palindrome "
   ]
  },
  {
   "cell_type": "code",
   "execution_count": 22,
   "metadata": {},
   "outputs": [
    {
     "name": "stdout",
     "output_type": "stream",
     "text": [
      "False\n",
      "True\n"
     ]
    }
   ],
   "source": [
    "def is_palindrome(s):\n",
    "    s=s.lower().replace(\" \",\"\")\n",
    "    return s == s[::-1]\n",
    "print(is_palindrome(\"abhay\"))\n",
    "print(is_palindrome('a man a plan a canal Panama'))\n"
   ]
  },
  {
   "cell_type": "markdown",
   "metadata": {},
   "source": [
    "E5= calculate the factorials of number using recursion "
   ]
  },
  {
   "cell_type": "code",
   "execution_count": 2,
   "metadata": {},
   "outputs": [
    {
     "data": {
      "text/plain": [
       "3628800"
      ]
     },
     "execution_count": 2,
     "metadata": {},
     "output_type": "execute_result"
    }
   ],
   "source": [
    "def factorial(num):\n",
    "    if num ==0 :\n",
    "        return 1\n",
    "    else:\n",
    "        return num * factorial(num-1)\n",
    "factorial(10)"
   ]
  },
  {
   "cell_type": "markdown",
   "metadata": {},
   "source": [
    "Example 6: a function to read a file and count the frequency of each word"
   ]
  },
  {
   "cell_type": "code",
   "execution_count": 5,
   "metadata": {},
   "outputs": [
    {
     "name": "stdout",
     "output_type": "stream",
     "text": [
      "{'hey': 1, '': 1, 'my': 2, 'name': 1, 'is': 1, 'abhay': 1, 'chand': 1, 'i': 1, 'am': 1, 'making': 1, 'this': 1, 'txt': 1, 'file': 1, 'a': 1, 'sa': 1, 'sample': 1, 'for': 1, 'function': 1}\n"
     ]
    }
   ],
   "source": [
    "def count_word(file_path):\n",
    "    word_count ={}\n",
    "    with open(file_path,'r') as file:\n",
    "        for line in file:\n",
    "            words = line.split()\n",
    "            for word in words :\n",
    "                word = word.lower().strip('!@#$%^&*()_+.,?\\\"')\n",
    "                word_count[word]=word_count.get(word,0)+1\n",
    "    return word_count\n",
    "filepath = 'sample.txt'\n",
    "word_frequency = count_word(filepath)\n",
    "print(word_frequency)"
   ]
  },
  {
   "cell_type": "code",
   "execution_count": null,
   "metadata": {},
   "outputs": [],
   "source": [
    "Eaxmple 7 : Validate Email Address"
   ]
  },
  {
   "cell_type": "code",
   "execution_count": 7,
   "metadata": {},
   "outputs": [
    {
     "name": "stdout",
     "output_type": "stream",
     "text": [
      "True\n",
      "False\n"
     ]
    }
   ],
   "source": [
    "import re\n",
    "#Email validation function \n",
    "def is_vaild_email(email):\n",
    "    \"\"\"this function to check if emial is valid or not\"\"\"\n",
    "    pattern = r'^[a-zA-Z0-9_.+*]+@[a-zA-Z0-9-]+\\.[a-zA-Z0-9-.]+$'\n",
    "    return re.match(pattern, email) is not None\n",
    "\n",
    "#calling the function\n",
    "print(is_vaild_email(\"abhay@chand.com\"))\n",
    "print(is_vaild_email(\"happy-email\"))"
   ]
  }
 ],
 "metadata": {
  "kernelspec": {
   "display_name": "Python 3",
   "language": "python",
   "name": "python3"
  },
  "language_info": {
   "codemirror_mode": {
    "name": "ipython",
    "version": 3
   },
   "file_extension": ".py",
   "mimetype": "text/x-python",
   "name": "python",
   "nbconvert_exporter": "python",
   "pygments_lexer": "ipython3",
   "version": "3.12.5"
  }
 },
 "nbformat": 4,
 "nbformat_minor": 2
}
