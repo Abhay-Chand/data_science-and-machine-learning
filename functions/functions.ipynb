{
 "cells": [
  {
   "cell_type": "code",
   "execution_count": null,
   "metadata": {},
   "outputs": [],
   "source": [
    "##syntax \n",
    "def function_name(parameter):\n",
    "    \"\"\"doctstring\"\"\"\n",
    "    #function body\n",
    "    return expression"
   ]
  },
  {
   "cell_type": "code",
   "execution_count": 2,
   "metadata": {},
   "outputs": [
    {
     "name": "stdout",
     "output_type": "stream",
     "text": [
      "this number is even.\n"
     ]
    }
   ],
   "source": [
    "## why function\n",
    "\"\"\"we didn't want to repeat things every time \"\"\"\n",
    "\n",
    "def even_or_odd(num):\n",
    "    \"\"\"function to find number is even or odd\"\"\"\n",
    "    if num%2 == 0:\n",
    "        print(\"this number is even.\")\n",
    "    else:\n",
    "        print(\"this number is odd.\")\n",
    "even_or_odd(100)"
   ]
  },
  {
   "cell_type": "markdown",
   "metadata": {},
   "source": [
    "### function calling \n"
   ]
  },
  {
   "cell_type": "code",
   "execution_count": 3,
   "metadata": {},
   "outputs": [
    {
     "name": "stdout",
     "output_type": "stream",
     "text": [
      "this number is even.\n"
     ]
    }
   ],
   "source": [
    "even_or_odd(100)"
   ]
  },
  {
   "cell_type": "code",
   "execution_count": 4,
   "metadata": {},
   "outputs": [
    {
     "data": {
      "text/plain": [
       "27"
      ]
     },
     "execution_count": 4,
     "metadata": {},
     "output_type": "execute_result"
    }
   ],
   "source": [
    "### fucntion with parameter \n",
    "def add(a,b):\n",
    "    return a+b\n",
    "add(12,15)"
   ]
  },
  {
   "cell_type": "markdown",
   "metadata": {},
   "source": []
  },
  {
   "cell_type": "code",
   "execution_count": 8,
   "metadata": {},
   "outputs": [
    {
     "name": "stdout",
     "output_type": "stream",
     "text": [
      "hello abhay,Welcome to paradice\n"
     ]
    }
   ],
   "source": [
    "### defaulkt parameter \n",
    "\n",
    "def greet(name = 'Guest'):\n",
    "    print(f\"hello {name},Welcome to paradice\")\n",
    "greet('abhay')"
   ]
  },
  {
   "cell_type": "markdown",
   "metadata": {},
   "source": [
    "### variable length argument \n",
    "## postional and keywords arguments"
   ]
  },
  {
   "cell_type": "code",
   "execution_count": 18,
   "metadata": {},
   "outputs": [
    {
     "name": "stdout",
     "output_type": "stream",
     "text": [
      "1\n",
      "2\n",
      "3\n",
      "4\n",
      "5\n",
      "6\n",
      "7\n",
      "8\n",
      "csdc\n"
     ]
    }
   ],
   "source": [
    "def print_numbers(*args):\n",
    "    for numbers in args :\n",
    "        print(numbers)\n",
    "\n",
    "print_numbers(1,2,3,4,5,6,7,8,'csdc')"
   ]
  },
  {
   "cell_type": "code",
   "execution_count": 21,
   "metadata": {},
   "outputs": [
    {
     "name": "stdout",
     "output_type": "stream",
     "text": [
      "name:ABahy\n",
      "age:20\n",
      "country:India\n"
     ]
    }
   ],
   "source": [
    "### keyword argument \n",
    "\n",
    "def print_details(**kwargs):\n",
    "    for key,values in kwargs.items():\n",
    "        print(f\"{key}:{values}\")\n",
    "print_details(name = \"ABahy\", age= \"20\", country = \"India\")"
   ]
  },
  {
   "cell_type": "markdown",
   "metadata": {},
   "source": [
    "###  COMBINE BOTH OF THEM "
   ]
  },
  {
   "cell_type": "code",
   "execution_count": 26,
   "metadata": {},
   "outputs": [
    {
     "name": "stdout",
     "output_type": "stream",
     "text": [
      "Postional argument:1\n",
      "Postional argument:2\n",
      "Postional argument:3\n",
      "Postional argument:4\n",
      "Postional argument:5\n",
      "Postional argument:6\n",
      "Postional argument:7\n",
      "Postional argument:8\n",
      "Postional argument:csdc\n",
      "name:ABahy\n",
      "age:20\n",
      "country:India\n"
     ]
    }
   ],
   "source": [
    "def print_detail(*args ,**kwargs):\n",
    "    for val in args:\n",
    "        print(f\"Postional argument:{val}\")\n",
    "    for key,values in kwargs.items():\n",
    "        print(f\"{key}:{values}\")\n",
    "print_detail(1,2,3,4,5,6,7,8,'csdc',name = \"ABahy\", age= \"20\", country = \"India\")"
   ]
  },
  {
   "cell_type": "code",
   "execution_count": 27,
   "metadata": {},
   "outputs": [
    {
     "data": {
      "text/plain": [
       "14"
      ]
     },
     "execution_count": 27,
     "metadata": {},
     "output_type": "execute_result"
    }
   ],
   "source": [
    "### return statement\n",
    "\n",
    "def mult(a,b):\n",
    "    return a*b\n",
    "mult(2,7)"
   ]
  }
 ],
 "metadata": {
  "kernelspec": {
   "display_name": "Python 3",
   "language": "python",
   "name": "python3"
  },
  "language_info": {
   "codemirror_mode": {
    "name": "ipython",
    "version": 3
   },
   "file_extension": ".py",
   "mimetype": "text/x-python",
   "name": "python",
   "nbconvert_exporter": "python",
   "pygments_lexer": "ipython3",
   "version": "3.12.5"
  }
 },
 "nbformat": 4,
 "nbformat_minor": 2
}
