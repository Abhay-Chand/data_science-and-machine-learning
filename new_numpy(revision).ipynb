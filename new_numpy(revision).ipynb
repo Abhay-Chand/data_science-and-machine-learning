{
  "nbformat": 4,
  "nbformat_minor": 0,
  "metadata": {
    "colab": {
      "provenance": [],
      "authorship_tag": "ABX9TyPtX/6jr/ob+tV1rHgaUzZr",
      "include_colab_link": true
    },
    "kernelspec": {
      "name": "python3",
      "display_name": "Python 3"
    },
    "language_info": {
      "name": "python"
    }
  },
  "cells": [
    {
      "cell_type": "markdown",
      "metadata": {
        "id": "view-in-github",
        "colab_type": "text"
      },
      "source": [
        "<a href=\"https://colab.research.google.com/github/Abhay-Chand/data_science-and-machine-learning/blob/main/new_numpy(revision).ipynb\" target=\"_parent\"><img src=\"https://colab.research.google.com/assets/colab-badge.svg\" alt=\"Open In Colab\"/></a>"
      ]
    },
    {
      "cell_type": "code",
      "execution_count": null,
      "metadata": {
        "colab": {
          "base_uri": "https://localhost:8080/"
        },
        "id": "Vb_NPPgZCG1H",
        "outputId": "8300b9ee-a14f-45c2-b085-d814de33a8eb"
      },
      "outputs": [
        {
          "output_type": "stream",
          "name": "stdout",
          "text": [
            "[1 2 3 4 5 6 7]\n",
            "<class 'numpy.ndarray'>\n",
            "(7,)\n"
          ]
        }
      ],
      "source": [
        "import numpy as np\n",
        "arr1  = np.array([1,2,3,4,5,6,7])\n",
        "print(arr1)\n",
        "print(type(arr1))\n",
        "print(arr1.shape)"
      ]
    },
    {
      "cell_type": "code",
      "source": [],
      "metadata": {
        "id": "zBmjhwygNeoT"
      },
      "execution_count": null,
      "outputs": []
    },
    {
      "cell_type": "code",
      "source": [
        "arr2 = np.array([1,3,4,5,6,78,9])\n",
        "arr2.reshape(7,1)"
      ],
      "metadata": {
        "colab": {
          "base_uri": "https://localhost:8080/"
        },
        "id": "Dn7d7loeCUM7",
        "outputId": "397fb56a-bd29-4849-94f6-7d7b07232a2c"
      },
      "execution_count": null,
      "outputs": [
        {
          "output_type": "execute_result",
          "data": {
            "text/plain": [
              "array([[ 1],\n",
              "       [ 3],\n",
              "       [ 4],\n",
              "       [ 5],\n",
              "       [ 6],\n",
              "       [78],\n",
              "       [ 9]])"
            ]
          },
          "metadata": {},
          "execution_count": 2
        }
      ]
    },
    {
      "cell_type": "code",
      "source": [
        "arr2 = np.array([[1,3,4,5,6,78,9],[12,23,43,54,45,3,2]])\n",
        "print(arr2)"
      ],
      "metadata": {
        "colab": {
          "base_uri": "https://localhost:8080/"
        },
        "id": "Op4oWkbZCeEZ",
        "outputId": "48ed74fc-72c6-4505-bdbc-5a19ca8aae59"
      },
      "execution_count": null,
      "outputs": [
        {
          "output_type": "stream",
          "name": "stdout",
          "text": [
            "[[ 1  3  4  5  6 78  9]\n",
            " [12 23 43 54 45  3  2]]\n"
          ]
        }
      ]
    },
    {
      "cell_type": "code",
      "source": [
        "## building array using in-build  function\n",
        "arr3 = np.arange(1,100,3)\n",
        "print(arr3)\n",
        "#reshape\n",
        "arr3.reshape(33,1)\n"
      ],
      "metadata": {
        "colab": {
          "base_uri": "https://localhost:8080/"
        },
        "id": "ENM2Bir1ClNy",
        "outputId": "3445ddfe-45c8-4686-b2b2-6c776d4bbeb0"
      },
      "execution_count": null,
      "outputs": [
        {
          "output_type": "stream",
          "name": "stdout",
          "text": [
            "[ 1  4  7 10 13 16 19 22 25 28 31 34 37 40 43 46 49 52 55 58 61 64 67 70\n",
            " 73 76 79 82 85 88 91 94 97]\n"
          ]
        },
        {
          "output_type": "execute_result",
          "data": {
            "text/plain": [
              "array([[ 1],\n",
              "       [ 4],\n",
              "       [ 7],\n",
              "       [10],\n",
              "       [13],\n",
              "       [16],\n",
              "       [19],\n",
              "       [22],\n",
              "       [25],\n",
              "       [28],\n",
              "       [31],\n",
              "       [34],\n",
              "       [37],\n",
              "       [40],\n",
              "       [43],\n",
              "       [46],\n",
              "       [49],\n",
              "       [52],\n",
              "       [55],\n",
              "       [58],\n",
              "       [61],\n",
              "       [64],\n",
              "       [67],\n",
              "       [70],\n",
              "       [73],\n",
              "       [76],\n",
              "       [79],\n",
              "       [82],\n",
              "       [85],\n",
              "       [88],\n",
              "       [91],\n",
              "       [94],\n",
              "       [97]])"
            ]
          },
          "metadata": {},
          "execution_count": 8
        }
      ]
    },
    {
      "cell_type": "code",
      "source": [
        "np.ones((4,4))"
      ],
      "metadata": {
        "colab": {
          "base_uri": "https://localhost:8080/"
        },
        "id": "SIYK6b6OC6WC",
        "outputId": "74b2f3ed-3427-4a8b-a85d-4f28587584c9"
      },
      "execution_count": null,
      "outputs": [
        {
          "output_type": "execute_result",
          "data": {
            "text/plain": [
              "array([[1., 1., 1., 1.],\n",
              "       [1., 1., 1., 1.],\n",
              "       [1., 1., 1., 1.],\n",
              "       [1., 1., 1., 1.]])"
            ]
          },
          "metadata": {},
          "execution_count": 9
        }
      ]
    },
    {
      "cell_type": "markdown",
      "source": [
        "identity matrix"
      ],
      "metadata": {
        "id": "2GEDz2FzFn1z"
      }
    },
    {
      "cell_type": "code",
      "source": [
        "np.eye(4,5)\n",
        "print(\"Item size(byte):\",arr3.itemsize)"
      ],
      "metadata": {
        "colab": {
          "base_uri": "https://localhost:8080/"
        },
        "id": "rl6KAvfOFk2u",
        "outputId": "fe0d0342-e1a3-4eda-8255-2af512baa368"
      },
      "execution_count": null,
      "outputs": [
        {
          "output_type": "stream",
          "name": "stdout",
          "text": [
            "Item size(byte): 8\n"
          ]
        }
      ]
    },
    {
      "cell_type": "code",
      "source": [
        "# numpy vectorization operation\n",
        "print(\"addition :\", arr1 + arr2)"
      ],
      "metadata": {
        "colab": {
          "base_uri": "https://localhost:8080/"
        },
        "id": "_32BnshmF3Om",
        "outputId": "48b60a17-1c27-4d65-dd89-a4ed4e9c56c8"
      },
      "execution_count": null,
      "outputs": [
        {
          "output_type": "stream",
          "name": "stdout",
          "text": [
            "addition : [[ 2  5  7  9 11 84 16]\n",
            " [13 25 46 58 50  9  9]]\n"
          ]
        }
      ]
    },
    {
      "cell_type": "code",
      "source": [
        "print(\"subtraction:\", arr1 - arr2)\n"
      ],
      "metadata": {
        "colab": {
          "base_uri": "https://localhost:8080/"
        },
        "id": "SSmrCXZaOHq4",
        "outputId": "5b74c894-3e30-4ad9-8cb2-4f0749a4e2c3"
      },
      "execution_count": null,
      "outputs": [
        {
          "output_type": "stream",
          "name": "stdout",
          "text": [
            "subtraction: [[  0  -1  -1  -1  -1 -72  -2]\n",
            " [-11 -21 -40 -50 -40   3   5]]\n"
          ]
        }
      ]
    },
    {
      "cell_type": "code",
      "source": [
        "print(\"multiplication :\", arr1 * arr2)"
      ],
      "metadata": {
        "colab": {
          "base_uri": "https://localhost:8080/"
        },
        "id": "sbL67wdOOOmy",
        "outputId": "27ba8d6a-f6be-46db-c6c9-2ffdc73d6831"
      },
      "execution_count": null,
      "outputs": [
        {
          "output_type": "stream",
          "name": "stdout",
          "text": [
            "multiplication : [[  1   6  12  20  30 468  63]\n",
            " [ 12  46 129 216 225  18  14]]\n"
          ]
        }
      ]
    },
    {
      "cell_type": "code",
      "source": [
        "print(\"divide :\",arr1/arr2)"
      ],
      "metadata": {
        "colab": {
          "base_uri": "https://localhost:8080/"
        },
        "id": "ZQDMTkXsPbhA",
        "outputId": "e43e8cf4-0263-4737-f65a-a626251ec3ba"
      },
      "execution_count": null,
      "outputs": [
        {
          "output_type": "stream",
          "name": "stdout",
          "text": [
            "divide : [[1.         0.66666667 0.75       0.8        0.83333333 0.07692308\n",
            "  0.77777778]\n",
            " [0.08333333 0.08695652 0.06976744 0.07407407 0.11111111 2.\n",
            "  3.5       ]]\n"
          ]
        }
      ]
    },
    {
      "cell_type": "code",
      "source": [
        "# universal function\n",
        "\n",
        "arr = np.array([2,3,4,23,45,34,36])\n",
        "\n",
        "print(np.sqrt(arr))\n",
        "print(np.exp(arr))\n",
        "print(np.sin(arr))"
      ],
      "metadata": {
        "colab": {
          "base_uri": "https://localhost:8080/"
        },
        "id": "C6fFMpf-PbR_",
        "outputId": "bc1f4834-050b-449c-a367-fa14b9a99cec"
      },
      "execution_count": null,
      "outputs": [
        {
          "output_type": "stream",
          "name": "stdout",
          "text": [
            "[1.41421356 1.73205081 2.         4.79583152 6.70820393 5.83095189\n",
            " 6.        ]\n",
            "[7.38905610e+00 2.00855369e+01 5.45981500e+01 9.74480345e+09\n",
            " 3.49342711e+19 5.83461743e+14 4.31123155e+15]\n",
            "[ 0.90929743  0.14112001 -0.7568025  -0.8462204   0.85090352  0.52908269\n",
            " -0.99177885]\n"
          ]
        }
      ]
    },
    {
      "cell_type": "code",
      "source": [
        "#Natural log\n",
        "print(np.log(arr))"
      ],
      "metadata": {
        "colab": {
          "base_uri": "https://localhost:8080/"
        },
        "id": "Z_9D0zbaQkpj",
        "outputId": "2173c68f-453c-4217-be99-387d4d281f27"
      },
      "execution_count": null,
      "outputs": [
        {
          "output_type": "stream",
          "name": "stdout",
          "text": [
            "[0.69314718 1.09861229 1.38629436 3.13549422 3.80666249 3.52636052\n",
            " 3.58351894]\n"
          ]
        }
      ]
    },
    {
      "cell_type": "code",
      "source": [
        "#array slicing an indexing\n",
        "arr = np.array([[1,2,3,45,4],[12,34,2,34,23],[23,33,12,43,43]])\n",
        "print(\"Array : \\n\",arr)"
      ],
      "metadata": {
        "colab": {
          "base_uri": "https://localhost:8080/"
        },
        "id": "-9zsH76wQ3N-",
        "outputId": "11b6926b-cf4e-4d50-8696-a6dad6498942"
      },
      "execution_count": null,
      "outputs": [
        {
          "output_type": "stream",
          "name": "stdout",
          "text": [
            "Array : \n",
            " [[ 1  2  3 45  4]\n",
            " [12 34  2 34 23]\n",
            " [23 33 12 43 43]]\n"
          ]
        }
      ]
    },
    {
      "cell_type": "code",
      "source": [
        "#have to put one element\n",
        "arr[0]"
      ],
      "metadata": {
        "colab": {
          "base_uri": "https://localhost:8080/"
        },
        "id": "wd5S2LtaRjT5",
        "outputId": "071ee2d6-a086-4c2d-e2b0-53fe6a077305"
      },
      "execution_count": null,
      "outputs": [
        {
          "output_type": "execute_result",
          "data": {
            "text/plain": [
              "array([ 1,  2,  3, 45,  4])"
            ]
          },
          "metadata": {},
          "execution_count": 27
        }
      ]
    },
    {
      "cell_type": "code",
      "source": [
        "arr[1:2 ,2:4]"
      ],
      "metadata": {
        "colab": {
          "base_uri": "https://localhost:8080/"
        },
        "id": "AXUYrfCORriZ",
        "outputId": "a943d11a-a31d-4e0c-d302-b9225042cd06"
      },
      "execution_count": null,
      "outputs": [
        {
          "output_type": "execute_result",
          "data": {
            "text/plain": [
              "array([[ 2, 34]])"
            ]
          },
          "metadata": {},
          "execution_count": 32
        }
      ]
    },
    {
      "cell_type": "code",
      "source": [],
      "metadata": {
        "id": "CfflSB-SSE2b"
      },
      "execution_count": null,
      "outputs": []
    },
    {
      "cell_type": "code",
      "source": [],
      "metadata": {
        "id": "ugkKiTgVSEus"
      },
      "execution_count": null,
      "outputs": []
    }
  ]
}