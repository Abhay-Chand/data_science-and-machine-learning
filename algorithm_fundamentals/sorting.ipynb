{
 "cells": [
  {
   "cell_type": "markdown",
   "metadata": {},
   "source": [
    "####Bubble sort"
   ]
  },
  {
   "cell_type": "code",
   "execution_count": 4,
   "metadata": {},
   "outputs": [
    {
     "name": "stdout",
     "output_type": "stream",
     "text": [
      "sorted  array :\n"
     ]
    },
    {
     "data": {
      "text/plain": [
       "[2, 3, 5, 6, 7, 45]"
      ]
     },
     "execution_count": 4,
     "metadata": {},
     "output_type": "execute_result"
    }
   ],
   "source": [
    "def bubble_sort(arr):\n",
    "    n = len(arr)\n",
    "    for i in range(n): # loop will persform task till the nth \n",
    "        for j in range (0,n-i-1):\n",
    "            if arr[j]>arr[j+1]:\n",
    "                arr[j],arr[j+1] = arr[j+1],arr[j]\n",
    "            \n",
    "arr = [2,3,45,6,7,5]\n",
    "bubble_sort(arr)\n",
    "print(\"sorted  array :\")\n",
    "arr\n",
    "        "
   ]
  },
  {
   "cell_type": "markdown",
   "metadata": {},
   "source": [
    "##### Imagine you have a list of animals with their corresponding weights in pounds. You want to arrange the animals in ascending order based on their weight, starting from the lightest animal to the heaviest animal. For example, if you have a list of animals with the following weights: 🐘 elephant (5000 lbs), 🦒 giraffe (2000 lbs), 🦓 zebra (1000 lbs), and 🐰 rabbit (5 lbs), you want to arrange them in the following order: 🐰 rabbit, 🦓 zebra, 🦒 giraffe, 🐘 elephant."
   ]
  },
  {
   "cell_type": "code",
   "execution_count": 19,
   "metadata": {},
   "outputs": [
    {
     "name": "stdout",
     "output_type": "stream",
     "text": [
      "sorted list acc to weight :\n"
     ]
    },
    {
     "data": {
      "text/plain": [
       "['elephant', 'giraffe', 'zebra', 'rabbit']"
      ]
     },
     "execution_count": 19,
     "metadata": {},
     "output_type": "execute_result"
    }
   ],
   "source": [
    "animals = [('elephant', 5000), ('giraffe', 2000), ('zebra', 1000), ('rabbit', 5)]\n",
    "n = len(animals)\n",
    "def animal_weight(animals):\n",
    "    for i in range(n):\n",
    "        for j in range(0,n-i-1):\n",
    "            if animals[j][1] > animals[j+1][1]:\n",
    "                animals[j], animals[j+1] = animals[j+1], animals[j]\n",
    "sorted_animal = [animal[0] for animal in animals]                 \n",
    "print(\"sorted list acc to weight :\")\n",
    "sorted_animal"
   ]
  }
 ],
 "metadata": {
  "kernelspec": {
   "display_name": "Python 3",
   "language": "python",
   "name": "python3"
  },
  "language_info": {
   "codemirror_mode": {
    "name": "ipython",
    "version": 3
   },
   "file_extension": ".py",
   "mimetype": "text/x-python",
   "name": "python",
   "nbconvert_exporter": "python",
   "pygments_lexer": "ipython3",
   "version": "3.12.5"
  }
 },
 "nbformat": 4,
 "nbformat_minor": 2
}
